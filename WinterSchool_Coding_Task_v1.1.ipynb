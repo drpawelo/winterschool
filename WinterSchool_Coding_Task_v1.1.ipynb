{
 "cells": [
  {
   "cell_type": "code",
   "execution_count": null,
   "metadata": {},
   "outputs": [],
   "source": [
    "# experimental: you can run this cell to see your code full-width\n",
    "from IPython.display import display, HTML\n",
    "display(HTML(\"<style>.container { width:100% !important; }</style>\"))"
   ]
  },
  {
   "cell_type": "code",
   "execution_count": null,
   "metadata": {},
   "outputs": [],
   "source": [
    "# Top-tip! Use ctrl+Enter to run current cell (cmd+Enter on a mac)"
   ]
  },
  {
   "cell_type": "markdown",
   "metadata": {},
   "source": [
    "### Demo: Functions, ifs, comparators, print"
   ]
  },
  {
   "cell_type": "code",
   "execution_count": null,
   "metadata": {},
   "outputs": [],
   "source": [
    "def is_number_between_10_and_20( some_number ):\n",
    "    if some_number < 10:\n",
    "        return False\n",
    "    elif some_number > 20:\n",
    "        return False\n",
    "    else:\n",
    "        return True\n",
    "\n",
    "print(is_number_between_10_and_20(4))\n",
    "print(is_number_between_10_and_20(9))\n",
    "\n",
    "print(is_number_between_10_and_20(10))\n",
    "print(is_number_between_10_and_20(14))\n",
    "print(is_number_between_10_and_20(20))\n",
    "\n",
    "print(is_number_between_10_and_20(21))\n",
    "print(is_number_between_10_and_20(100))"
   ]
  },
  {
   "cell_type": "markdown",
   "metadata": {},
   "source": [
    "### TASK 1 - is_weekend?\n",
    "\n",
    "Write a function called `is_weekend` which takes a name of the day eg 'Monday' and returns True or False, depending on whether that day is a weekend day. Look at the tests below for examples and edge cases.\n",
    "\n",
    "Only use `if elif else < <= == >= > and or`"
   ]
  },
  {
   "cell_type": "code",
   "execution_count": null,
   "metadata": {},
   "outputs": [],
   "source": [
    "def is_weekend( day_name ):\n",
    "    return \"Banana\" # this should be True or False"
   ]
  },
  {
   "cell_type": "code",
   "execution_count": null,
   "metadata": {},
   "outputs": [],
   "source": [
    "print(is_weekend(\"Sunday\"))"
   ]
  },
  {
   "cell_type": "code",
   "execution_count": null,
   "metadata": {},
   "outputs": [],
   "source": [
    "assert is_weekend(\"Sunday\") == True\n",
    "assert is_weekend(\"Saturday\") == True\n",
    "assert is_weekend(\"Friday\") == True\n",
    "\n",
    "assert is_weekend(\"Monday\") == False\n",
    "assert is_weekend(\"Tuesday\") == False\n",
    "\n",
    "assert is_weekend(\"Banana\") == False\n",
    "print(\"yay! tests worked!\")"
   ]
  },
  {
   "cell_type": "markdown",
   "metadata": {},
   "source": [
    "### TASK 2 - get_largest!"
   ]
  },
  {
   "cell_type": "markdown",
   "metadata": {},
   "source": [
    "Write a function `get_largest(n1,n2,n3)` that takes three numbers and **returns** the largest one. Think: what makes a number largest?\n",
    "\n",
    "Only use `if elif else < <= == >= > and or`"
   ]
  },
  {
   "cell_type": "code",
   "execution_count": null,
   "metadata": {},
   "outputs": [],
   "source": [
    "# your solution\n",
    "def get_largest(n1,n2,n3):\n",
    "    # your solution start  here\n",
    "    largest = \"banana\"\n",
    "    # your solution end here\n",
    "    return largest"
   ]
  },
  {
   "cell_type": "code",
   "execution_count": null,
   "metadata": {},
   "outputs": [],
   "source": [
    "# see it work. \n",
    "# (if a particular test does not work, \n",
    "# it's a good idea to 'print' the scenario that fails)\n",
    "print( get_largest(3,4,5) )"
   ]
  },
  {
   "cell_type": "code",
   "execution_count": null,
   "metadata": {},
   "outputs": [],
   "source": [
    "# run tests to see if it works:\n",
    "assert get_largest(3,4,5) == 5\n",
    "assert get_largest(6,4,5) == 6\n",
    "assert get_largest(-2,4,-5) == 4\n",
    "print(\"yay! tests worked!\")"
   ]
  },
  {
   "cell_type": "code",
   "execution_count": null,
   "metadata": {},
   "outputs": [],
   "source": [
    "# more tests\n",
    "assert get_largest(6,4,6) == 6\n",
    "assert get_largest(3,3,5) == 5\n",
    "assert get_largest(3,5,3) == 5\n",
    "assert get_largest(5,3,3) == 5\n",
    "assert get_largest(3,3,3) == 3\n",
    "print(\"yay! tests worked!\")"
   ]
  },
  {
   "cell_type": "markdown",
   "metadata": {},
   "source": [
    "### Demo: And Or, brackets"
   ]
  },
  {
   "cell_type": "code",
   "execution_count": null,
   "metadata": {},
   "outputs": [],
   "source": [
    "# demo. What does this code do?\n",
    "rains = True\n",
    "day = 'Friday'\n",
    "\n",
    "if rains == True and (day == 'Friday' or day == 'Saturday' or day == 'Sunday'):\n",
    "    print(\"Grr! It always rains on Weekends!⛈\")\n",
    "else:\n",
    "    print(\"What's that yellow object in the sky?🌤\")"
   ]
  },
  {
   "cell_type": "markdown",
   "metadata": {},
   "source": [
    "### TASK 3 -  are_in_order(n1,n2,n3,n4)"
   ]
  },
  {
   "cell_type": "markdown",
   "metadata": {},
   "source": [
    "Write a function `are_in_order(n1,n2,n3,n4)` use tests below to understand what it needs to do. Remember that function needs to return something!\n",
    "\n",
    "Only use `if elif else < <= == >= > and or`"
   ]
  },
  {
   "cell_type": "code",
   "execution_count": null,
   "metadata": {},
   "outputs": [],
   "source": [
    "def are_in_order(n1,n2,n3,n4):\n",
    "    return \"Banana\""
   ]
  },
  {
   "cell_type": "code",
   "execution_count": null,
   "metadata": {},
   "outputs": [],
   "source": [
    "# see it work\n",
    "print(are_in_order(2,3,7,9))"
   ]
  },
  {
   "cell_type": "code",
   "execution_count": null,
   "metadata": {},
   "outputs": [],
   "source": [
    "# expected results:\n",
    "assert are_in_order(1,2,3,4) == True\n",
    "assert are_in_order(1,3,4,6) == True\n",
    "assert are_in_order(2,3,4,1) == False\n",
    "assert are_in_order(2,1,4,6) == False\n",
    "print(\"yay! tests worked!\")"
   ]
  },
  {
   "cell_type": "code",
   "execution_count": null,
   "metadata": {},
   "outputs": [],
   "source": [
    "assert are_in_order(6,3,2,1) == False\n",
    "assert are_in_order(4,3,2,1) == False\n",
    "assert are_in_order(2,2,5,7) == True\n",
    "assert are_in_order(2,2,2,1) == False\n",
    "assert are_in_order(2,2,2,2) == True\n",
    "print(\"yay! tests worked!\")"
   ]
  },
  {
   "cell_type": "markdown",
   "metadata": {},
   "source": [
    "### TASK 4 - Write a function are_words_unique(w1,w2, w3)"
   ]
  },
  {
   "cell_type": "markdown",
   "metadata": {},
   "source": [
    "Write a function are_words_unique(w1,w2, w3) that takes three words and returns True if they are different from each other.\n",
    "\n",
    "Python is case-sensitive, so \"BANanA\" and \"banana\" are different from each other. Have a look at the tests.\n",
    "\n",
    "Also, while 'equals symbol' `==` means 'both sides are the same', its reverse is 'not equals symbol' `!=` which means 'both sides are different'. eg. `3 != 4` would return value `True` because 3 is not equal 4. "
   ]
  },
  {
   "cell_type": "code",
   "execution_count": null,
   "metadata": {},
   "outputs": [],
   "source": [
    "# your solution\n",
    "def are_words_unique(w1,w2,w3):\n",
    "    return False # silly solution! always False :D change it"
   ]
  },
  {
   "cell_type": "code",
   "execution_count": null,
   "metadata": {},
   "outputs": [],
   "source": [
    "print(are_words_unique(\"yay\", \"YAY\", \"Banana\"))"
   ]
  },
  {
   "cell_type": "code",
   "execution_count": null,
   "metadata": {},
   "outputs": [],
   "source": [
    "assert are_words_unique(\"banana\", \"banana\", \"banana\") == False\n",
    "assert are_words_unique(\"yay\", \"nope\", \"Banana\") == True\n",
    "assert are_words_unique(\"yay\", \"yaY\", \"YAY\") == True\n",
    "print(\"yay! tests worked!\")"
   ]
  },
  {
   "cell_type": "code",
   "execution_count": null,
   "metadata": {},
   "outputs": [],
   "source": [
    "assert are_words_unique(\"yay\", \"yay\", \"YAY\") == False\n",
    "assert are_words_unique(\"yay\", \"YAY\", \"yay\") == False\n",
    "assert are_words_unique(\"banana\", \"banana\", \"banana\") == False\n",
    "assert are_words_unique(\"\", \"\", \"\") == False\n",
    "print(\"yay! tests worked!\")"
   ]
  },
  {
   "cell_type": "markdown",
   "metadata": {},
   "source": [
    "### TASK 5"
   ]
  },
  {
   "cell_type": "code",
   "execution_count": null,
   "metadata": {},
   "outputs": [],
   "source": [
    "def how_many_days_in_month(which_month):\n",
    "    #     assume it's year 2024\n",
    "    return 0"
   ]
  },
  {
   "cell_type": "code",
   "execution_count": null,
   "metadata": {},
   "outputs": [],
   "source": [
    "print(how_many_days_in_month(1))"
   ]
  },
  {
   "cell_type": "code",
   "execution_count": null,
   "metadata": {},
   "outputs": [],
   "source": [
    "assert how_many_days_in_month(1) == 31\n",
    "assert how_many_days_in_month(2) == 29\n",
    "assert how_many_days_in_month(3) == 31\n",
    "assert how_many_days_in_month(12) == 31\n",
    "print(\"yay! tests worked!\")"
   ]
  },
  {
   "cell_type": "code",
   "execution_count": null,
   "metadata": {},
   "outputs": [],
   "source": [
    "assert how_many_days_in_month(-2) == 0\n",
    "assert how_many_days_in_month(0) == 0\n",
    "assert how_many_days_in_month(13) == 0\n",
    "print(\"yay! tests worked!\")"
   ]
  },
  {
   "cell_type": "markdown",
   "metadata": {},
   "source": [
    "### TASK 6"
   ]
  },
  {
   "cell_type": "code",
   "execution_count": null,
   "metadata": {},
   "outputs": [],
   "source": [
    "def is_this_a_valid_calendar_date(day_number, month_number):\n",
    "    #     assume it's year 2024\n",
    "    #     idea: could you call (not copy-paste) your function how_many_days_in_month() ??\n",
    "    return False"
   ]
  },
  {
   "cell_type": "code",
   "execution_count": null,
   "metadata": {},
   "outputs": [],
   "source": [
    "print(is_this_a_valid_calendar_date(11, 1))"
   ]
  },
  {
   "cell_type": "code",
   "execution_count": null,
   "metadata": {},
   "outputs": [],
   "source": [
    "assert is_this_a_valid_calendar_date(11, 1) == True\n",
    "assert is_this_a_valid_calendar_date(31, 1) == True\n",
    "assert is_this_a_valid_calendar_date(30, 2) == False\n",
    "assert is_this_a_valid_calendar_date(29, 2) == True\n",
    "assert is_this_a_valid_calendar_date(31, 5) == True\n",
    "assert is_this_a_valid_calendar_date(31, 4) == False\n",
    "print(\"yay! tests worked!\")"
   ]
  },
  {
   "cell_type": "code",
   "execution_count": null,
   "metadata": {},
   "outputs": [],
   "source": [
    "assert is_this_a_valid_calendar_date(0, 12) == False\n",
    "assert is_this_a_valid_calendar_date(12, 0) == False\n",
    "assert is_this_a_valid_calendar_date(32, 1) == False\n",
    "assert is_this_a_valid_calendar_date(32, 0) == False\n",
    "assert is_this_a_valid_calendar_date(12, 13) == False\n",
    "print(\"yay! tests worked!\")"
   ]
  },
  {
   "cell_type": "code",
   "execution_count": null,
   "metadata": {},
   "outputs": [],
   "source": [
    "# if you still have time:\n",
    "# create your own challange, \n",
    "# write wrong \"banana\" solution \n",
    "# write tests, see them fail\n",
    "# and then fix solution, and re-run the tests"
   ]
  },
  {
   "cell_type": "code",
   "execution_count": null,
   "metadata": {},
   "outputs": [],
   "source": []
  },
  {
   "cell_type": "code",
   "execution_count": null,
   "metadata": {},
   "outputs": [],
   "source": []
  },
  {
   "cell_type": "code",
   "execution_count": null,
   "metadata": {},
   "outputs": [],
   "source": []
  },
  {
   "cell_type": "code",
   "execution_count": null,
   "metadata": {},
   "outputs": [],
   "source": []
  },
  {
   "cell_type": "code",
   "execution_count": null,
   "metadata": {},
   "outputs": [],
   "source": []
  }
 ],
 "metadata": {
  "celltoolbar": "Create Assignment",
  "kernelspec": {
   "display_name": "Python 3 (ipykernel)",
   "language": "python",
   "name": "python3"
  },
  "language_info": {
   "codemirror_mode": {
    "name": "ipython",
    "version": 3
   },
   "file_extension": ".py",
   "mimetype": "text/x-python",
   "name": "python",
   "nbconvert_exporter": "python",
   "pygments_lexer": "ipython3",
   "version": "3.9.7"
  }
 },
 "nbformat": 4,
 "nbformat_minor": 2
}
