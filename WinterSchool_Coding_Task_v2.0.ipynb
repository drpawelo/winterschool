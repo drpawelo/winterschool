{
 "cells": [
  {
   "cell_type": "code",
   "execution_count": 21,
   "metadata": {},
   "outputs": [],
   "source": [
    "# Top-tip! Use Shift+Enter to run current a cell and move to the next one\n",
    "# Run this to see it work!\n",
    "print(\"YAY! this works\", 2+2)"
   ]
  },
  {
   "cell_type": "markdown",
   "metadata": {},
   "source": [
    "### Demo: Functions, ifs, comparators, print"
   ]
  },
  {
   "cell_type": "code",
   "execution_count": 22,
   "metadata": {},
   "outputs": [],
   "source": [
    "# this is a definition of a function ❤️\n",
    "def is_number_between_10_and_20( some_number ): \n",
    "    if some_number < 10:\n",
    "        return False\n",
    "    elif some_number > 20:\n",
    "        return False\n",
    "    else:\n",
    "        return True"
   ]
  },
  {
   "cell_type": "code",
   "execution_count": null,
   "metadata": {},
   "outputs": [],
   "source": [
    "# to check if it worked, let's run that function with a few different inputs\n",
    "# and let's print the result! Run all the cells below. Just keep pressing ctrl+Enter\n",
    "\n",
    "print(is_number_between_10_and_20(4))\n",
    "print(is_number_between_10_and_20(9))"
   ]
  },
  {
   "cell_type": "code",
   "execution_count": null,
   "metadata": {},
   "outputs": [],
   "source": [
    "# more scenarios! Before you run them: what results do you expect?\n",
    "\n",
    "print(is_number_between_10_and_20(10))\n",
    "print(is_number_between_10_and_20(14))\n",
    "print(is_number_between_10_and_20(20))\n",
    "\n",
    "print(is_number_between_10_and_20(21))\n",
    "print(is_number_between_10_and_20(100))"
   ]
  },
  {
   "cell_type": "code",
   "execution_count": null,
   "metadata": {},
   "outputs": [],
   "source": [
    "# often you describe such scenarios with expected values in one line\n",
    "# in Python you can use a word `assert` meaning 'make sure that...'\n",
    "# this strategy is called Software Testing\n",
    "\n",
    "assert is_number_between_10_and_20(9) == False\n",
    "assert is_number_between_10_and_20(13) == True\n",
    "assert is_number_between_10_and_20(91) == False\n",
    "print('tests worked!')"
   ]
  },
  {
   "cell_type": "markdown",
   "metadata": {},
   "source": [
    "### TASK 1 - is_weekend?\n",
    "\n",
    "Write a function called `is_weekend` which takes a name of the day eg 'Monday' and returns True or False, depending on whether that day is a weekend day. Look at the tests below for examples and edge cases. Start by making the simplest tests pass/succeed. \n",
    "\n",
    "Only use `if elif else < <= == >= > and or`\n",
    "btw. `==` in Python means 'are identical to each other' "
   ]
  },
  {
   "cell_type": "code",
   "execution_count": 26,
   "metadata": {},
   "outputs": [],
   "source": [
    "def is_weekend( day_name ):\n",
    "    # here you will have to write some code\n",
    "    return \"Banana\""
   ]
  },
  {
   "cell_type": "code",
   "execution_count": null,
   "metadata": {},
   "outputs": [],
   "source": [
    "print(is_weekend(\"Sunday\"))"
   ]
  },
  {
   "cell_type": "code",
   "execution_count": null,
   "metadata": {},
   "outputs": [],
   "source": [
    "assert is_weekend(\"Sunday\") == True\n",
    "assert is_weekend(\"Saturday\") == True\n",
    "assert is_weekend(\"Friday\") == True\n",
    "\n",
    "assert is_weekend(\"Monday\") == False\n",
    "assert is_weekend(\"Tuesday\") == False\n",
    "\n",
    "assert is_weekend(\"Banana\") == False\n",
    "print(\"yay! tests worked!\")"
   ]
  },
  {
   "cell_type": "markdown",
   "metadata": {},
   "source": [
    "### TASK 2 - get_larger!\n",
    "\n",
    "Write a function `get_larger(n1,n2)` that takes two numbers and **returns** the larger one. Think: what makes a number larger?\n",
    "\n",
    "Only use `if elif else < <= == >= > and or`"
   ]
  },
  {
   "cell_type": "code",
   "execution_count": null,
   "metadata": {},
   "outputs": [],
   "source": [
    "# your solution\n",
    "def get_larger(n1,n2):\n",
    "    # your solution starts  here. Write code that figures out the answer\n",
    "    # and puts it in a variable `largest`\n",
    "    larger = \"banana\"\n",
    "    # your solution end here\n",
    "    return larger"
   ]
  },
  {
   "cell_type": "code",
   "execution_count": null,
   "metadata": {},
   "outputs": [],
   "source": [
    "# see it work. \n",
    "# (if a particular test does not work, \n",
    "# it's a good idea to 'print' the scenario that fails)\n",
    "print( get_larger(3,4) )\n",
    "print( get_larger(30,4) )"
   ]
  },
  {
   "cell_type": "code",
   "execution_count": null,
   "metadata": {},
   "outputs": [],
   "source": [
    "# run tests to see if it works:\n",
    "assert get_larger(3,4) == 4\n",
    "assert get_larger(40,15) == 40\n",
    "assert get_larger(3,3) == 3\n",
    "print(\"yay! tests worked!\")"
   ]
  },
  {
   "cell_type": "markdown",
   "metadata": {},
   "source": [
    "### TASK 3 - get_largest!"
   ]
  },
  {
   "cell_type": "markdown",
   "metadata": {},
   "source": [
    "Write a function `get_largest(n1,n2,n3)` that takes three numbers and **returns** the largest one. Think: what makes a number largest?\n",
    "\n",
    "Only use `if elif else < <= == >= > and or`"
   ]
  },
  {
   "cell_type": "code",
   "execution_count": 29,
   "metadata": {},
   "outputs": [],
   "source": [
    "# your solution\n",
    "def get_largest(n1,n2,n3):\n",
    "    # your solution start  here. Write code that figures out the answer\n",
    "    # and puts it in a variable `largest`\n",
    "    largest = \"banana\"\n",
    "    # your solution end here\n",
    "    return largest"
   ]
  },
  {
   "cell_type": "code",
   "execution_count": null,
   "metadata": {},
   "outputs": [],
   "source": [
    "# see it work. \n",
    "# (if a particular test does not work, \n",
    "# it's a good idea to 'print' the scenario that fails)\n",
    "print( get_largest(3,4,5) )\n",
    "print( get_largest(30,4,5) )"
   ]
  },
  {
   "cell_type": "code",
   "execution_count": null,
   "metadata": {},
   "outputs": [],
   "source": [
    "# run tests to see if it works:\n",
    "assert get_largest(3,4,5) == 5\n",
    "assert get_largest(6,4,5) == 6\n",
    "assert get_largest(-2,4,-5) == 4\n",
    "print(\"yay! tests worked!\")"
   ]
  },
  {
   "cell_type": "code",
   "execution_count": null,
   "metadata": {},
   "outputs": [],
   "source": [
    "# more tests\n",
    "assert get_largest(6,4,6) == 6\n",
    "assert get_largest(3,3,5) == 5\n",
    "assert get_largest(3,5,3) == 5\n",
    "assert get_largest(5,3,3) == 5\n",
    "assert get_largest(3,3,3) == 3\n",
    "print(\"yay! tests worked!\")"
   ]
  },
  {
   "cell_type": "markdown",
   "metadata": {},
   "source": [
    "### Demo: And Or, brackets"
   ]
  },
  {
   "cell_type": "code",
   "execution_count": null,
   "metadata": {},
   "outputs": [],
   "source": [
    "# demo. What does this code do?\n",
    "rains = True\n",
    "day = 'Friday'\n",
    "\n",
    "if rains == True and (day == 'Friday' or day == 'Saturday' or day == 'Sunday'):\n",
    "    print(\"Grr! It always rains on Weekends!⛈\")\n",
    "else:\n",
    "    print(\"What's that yellow object in the sky?🌤\")"
   ]
  },
  {
   "cell_type": "markdown",
   "metadata": {},
   "source": [
    "### TASK 4 -  are_in_order(n1,n2,n3,n4)"
   ]
  },
  {
   "cell_type": "markdown",
   "metadata": {},
   "source": [
    "Write a function `are_in_order(n1,n2,n3,n4)` use tests below to understand what it needs to do. Remember that function needs to return something!\n",
    "\n",
    "For simlicity assume we mean any increasing order like 2,5,6,9 (not just 3,4,5,6) and also decreasing order does not count (8,6,3,2).\n",
    "What about repeated numbers? Well... consult the tests below!\n",
    "\n",
    "Only use `if elif else < <= == >= > and or`"
   ]
  },
  {
   "cell_type": "code",
   "execution_count": null,
   "metadata": {},
   "outputs": [],
   "source": [
    "def are_in_order(n1,n2,n3,n4):\n",
    "    return \"Banana\"\n",
    "\n",
    "# Top tip: there exists a solution which has ONE LINE OF CODE and only uses those: and <= ( )"
   ]
  },
  {
   "cell_type": "code",
   "execution_count": null,
   "metadata": {},
   "outputs": [],
   "source": [
    "# see it work\n",
    "print(are_in_order(2,3,7,9))"
   ]
  },
  {
   "cell_type": "code",
   "execution_count": null,
   "metadata": {},
   "outputs": [],
   "source": [
    "# expected results:\n",
    "assert are_in_order(1,2,3,4) == True\n",
    "assert are_in_order(1,3,4,6) == True\n",
    "assert are_in_order(2,3,4,1) == False\n",
    "assert are_in_order(2,1,4,6) == False\n",
    "print(\"yay! tests worked!\")"
   ]
  },
  {
   "cell_type": "code",
   "execution_count": null,
   "metadata": {},
   "outputs": [],
   "source": [
    "assert are_in_order(6,3,2,1) == False\n",
    "assert are_in_order(4,3,2,1) == False\n",
    "assert are_in_order(2,2,5,7) == True\n",
    "assert are_in_order(2,2,2,1) == False\n",
    "assert are_in_order(2,2,2,2) == True\n",
    "print(\"yay! tests worked!\")"
   ]
  },
  {
   "cell_type": "markdown",
   "metadata": {},
   "source": [
    "### TASK 5"
   ]
  },
  {
   "cell_type": "code",
   "execution_count": null,
   "metadata": {},
   "outputs": [],
   "source": [
    "def how_many_days_in_month(which_month):\n",
    "    #     assume it's year 2025\n",
    "    return 0"
   ]
  },
  {
   "cell_type": "code",
   "execution_count": null,
   "metadata": {},
   "outputs": [],
   "source": [
    "print(how_many_days_in_month(1)) # in January we expect to see 31 days"
   ]
  },
  {
   "cell_type": "code",
   "execution_count": null,
   "metadata": {},
   "outputs": [],
   "source": [
    "assert how_many_days_in_month(1) == 31\n",
    "assert how_many_days_in_month(2) == 29\n",
    "assert how_many_days_in_month(3) == 31\n",
    "assert how_many_days_in_month(12) == 31\n",
    "print(\"yay! tests worked!\")"
   ]
  },
  {
   "cell_type": "code",
   "execution_count": null,
   "metadata": {},
   "outputs": [],
   "source": [
    "# for the adventurous!\n",
    "assert how_many_days_in_month(-2) == 0\n",
    "assert how_many_days_in_month(0) == 0\n",
    "assert how_many_days_in_month(13) == 0\n",
    "print(\"yay! tests worked!\")"
   ]
  },
  {
   "cell_type": "markdown",
   "metadata": {},
   "source": [
    "### TASK 6"
   ]
  },
  {
   "cell_type": "code",
   "execution_count": null,
   "metadata": {},
   "outputs": [],
   "source": [
    "def is_this_a_valid_calendar_date(day_number, month_number):\n",
    "    #     assume it's year 2025\n",
    "    #     idea: could you call (not just copy-paste) your function how_many_days_in_month() ??\n",
    "    return False"
   ]
  },
  {
   "cell_type": "code",
   "execution_count": null,
   "metadata": {},
   "outputs": [],
   "source": [
    "print(is_this_a_valid_calendar_date(11, 1))"
   ]
  },
  {
   "cell_type": "code",
   "execution_count": null,
   "metadata": {},
   "outputs": [],
   "source": [
    "assert is_this_a_valid_calendar_date(11, 1) == True\n",
    "assert is_this_a_valid_calendar_date(31, 1) == True\n",
    "assert is_this_a_valid_calendar_date(30, 2) == False\n",
    "assert is_this_a_valid_calendar_date(29, 2) == True\n",
    "assert is_this_a_valid_calendar_date(31, 5) == True\n",
    "assert is_this_a_valid_calendar_date(31, 4) == False\n",
    "print(\"yay! tests worked!\")"
   ]
  },
  {
   "cell_type": "code",
   "execution_count": null,
   "metadata": {},
   "outputs": [],
   "source": [
    "assert is_this_a_valid_calendar_date(0, 12) == False\n",
    "assert is_this_a_valid_calendar_date(12, 0) == False\n",
    "assert is_this_a_valid_calendar_date(32, 1) == False\n",
    "assert is_this_a_valid_calendar_date(32, 0) == False\n",
    "assert is_this_a_valid_calendar_date(12, 13) == False\n",
    "print(\"yay! tests worked!\")"
   ]
  },
  {
   "cell_type": "code",
   "execution_count": null,
   "metadata": {},
   "outputs": [],
   "source": [
    "# if you still have time:\n",
    "# create your own challange, \n",
    "# write wrong \"banana\" solution \n",
    "# write tests, see them fail\n",
    "# and then fix solution, and re-run the tests"
   ]
  },
  {
   "cell_type": "code",
   "execution_count": null,
   "metadata": {},
   "outputs": [],
   "source": []
  },
  {
   "cell_type": "code",
   "execution_count": null,
   "metadata": {},
   "outputs": [],
   "source": []
  },
  {
   "cell_type": "code",
   "execution_count": null,
   "metadata": {},
   "outputs": [],
   "source": []
  },
  {
   "cell_type": "code",
   "execution_count": null,
   "metadata": {},
   "outputs": [],
   "source": []
  },
  {
   "cell_type": "code",
   "execution_count": null,
   "metadata": {},
   "outputs": [],
   "source": []
  }
 ],
 "metadata": {
  "celltoolbar": "Create Assignment",
  "kernelspec": {
   "display_name": "base",
   "language": "python",
   "name": "python3"
  },
  "language_info": {
   "codemirror_mode": {
    "name": "ipython",
    "version": 3
   },
   "file_extension": ".py",
   "mimetype": "text/x-python",
   "name": "python",
   "nbconvert_exporter": "python",
   "pygments_lexer": "ipython3",
   "version": "3.12.4"
  }
 },
 "nbformat": 4,
 "nbformat_minor": 2
}
